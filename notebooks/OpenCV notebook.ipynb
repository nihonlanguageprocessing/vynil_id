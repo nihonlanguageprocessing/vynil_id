{
 "cells": [
  {
   "cell_type": "code",
   "execution_count": 45,
   "id": "497c9d9a",
   "metadata": {},
   "outputs": [],
   "source": [
    "# import the necessary packages\n",
    "import argparse\n",
    "import cv2\n",
    "import numpy as np\n",
    "from matplotlib import pyplot as plt\n",
    "\n",
    "## https://stackoverflow.com/questions/41138000/fit-quadrilateral-tetragon-to-a-blob\n",
    "\n",
    "# construct the argument parser and parse the arguments\n",
    "\n",
    "threshold = 128\n",
    "\n",
    "\n",
    "# load the image and convert it to grayscale\n",
    "image = cv2.imread('../raw_data/mercari_images/test3.jpg')\n",
    "\n",
    "gray = cv2.cvtColor(image, cv2.COLOR_BGR2GRAY)\n",
    "# initialize the list of threshold methods\n",
    "methods = [\n",
    "    (\"THRESH_BINARY\", cv2.THRESH_BINARY),\n",
    "    (\"THRESH_BINARY_INV\", cv2.THRESH_BINARY_INV),\n",
    "    (\"THRESH_TRUNC\", cv2.THRESH_TRUNC),\n",
    "    (\"THRESH_TOZERO\", cv2.THRESH_TOZERO),\n",
    "    (\"THRESH_TOZERO_INV\", cv2.THRESH_TOZERO_INV)]\n",
    "# loop over the threshold methods\n",
    "\n",
    "\n"
   ]
  },
  {
   "cell_type": "code",
   "execution_count": 38,
   "id": "c132df0a",
   "metadata": {},
   "outputs": [],
   "source": [
    "# https://web.archive.org/web/20111108065352/https://www.cs.mun.ca/~rod/2500/notes/numpy-arrays/numpy-arrays.html\n",
    "# line segment intersection using vectors\n",
    "# see Computer Graphics by F.S. Hill\n",
    "#\n",
    "\n",
    "def perp( a ) :\n",
    "    b = np.empty_like(a)\n",
    "    b[0] = -a[1]\n",
    "    b[1] = a[0]\n",
    "    return b\n",
    "\n",
    "# line segment a given by endpoints a1, a2\n",
    "# line segment b given by endpoints b1, b2\n",
    "# return \n",
    "def seg_intersect(a1,a2, b1,b2) :\n",
    "    da = a2-a1\n",
    "    db = b2-b1\n",
    "    dp = a1-b1\n",
    "    dap = perp(da)\n",
    "    denom = np.dot( dap, db)\n",
    "    num = np.dot( dap, dp )\n",
    "    return (num / denom.astype(float))*db + b1\n",
    "\n",
    "\n"
   ]
  },
  {
   "cell_type": "code",
   "execution_count": null,
   "id": "1bfc42f0",
   "metadata": {},
   "outputs": [],
   "source": []
  },
  {
   "cell_type": "code",
   "execution_count": 39,
   "id": "03957ec6",
   "metadata": {},
   "outputs": [],
   "source": [
    "image = cv2.imread('../raw_data/mercari_images/test.jpg')"
   ]
  },
  {
   "cell_type": "code",
   "execution_count": 46,
   "id": "e089168b",
   "metadata": {},
   "outputs": [],
   "source": [
    "import cv2\n",
    "import numpy as np\n",
    "#https://stackoverflow.com/questions/42721213/python-opencv-extrapolating-the-largest-rectangle-off-of-a-set-of-contour-poin\n",
    "\n",
    "\n",
    "def clahe(img, clip_limit=2.0, grid_size=(8,8)):\n",
    "    clahe = cv2.createCLAHE(clipLimit=clip_limit, tileGridSize=grid_size)\n",
    "    return clahe.apply(img)\n",
    "\n",
    "# HSV thresholding to get rid of as much background as possible\n",
    "hsv = cv2.cvtColor(image.copy(), cv2.COLOR_BGR2HSV)\n",
    "lower_blue = np.array([0, 0, 120])\n",
    "upper_blue = np.array([180, 38, 255])\n",
    "mask = cv2.inRange(hsv, lower_blue, upper_blue)\n",
    "result = cv2.bitwise_and(image,image, mask=mask)\n",
    "b, g, r = cv2.split(result)\n",
    "g = clahe(g, 5, (3, 3))\n",
    "\n",
    "\n",
    "# Adaptive Thresholding to isolate the bed\n",
    "img_blur = cv2.blur(g, (10, 10))\n",
    "img_th = cv2.adaptiveThreshold(img_blur, 255, cv2.ADAPTIVE_THRESH_GAUSSIAN_C,\n",
    "                               cv2.THRESH_BINARY, 51, 2)\n",
    "\n",
    "contours, hierarchy = cv2.findContours(img_th,\n",
    "                                           cv2.RETR_CCOMP,\n",
    "                                            cv2.CHAIN_APPROX_SIMPLE)\n"
   ]
  },
  {
   "cell_type": "code",
   "execution_count": 10,
   "id": "1101d1c8",
   "metadata": {},
   "outputs": [
    {
     "data": {
      "text/plain": [
       "(2, 2)"
      ]
     },
     "execution_count": 10,
     "metadata": {},
     "output_type": "execute_result"
    }
   ],
   "source": []
  },
  {
   "cell_type": "code",
   "execution_count": 4,
   "id": "6902afb5",
   "metadata": {},
   "outputs": [
    {
     "data": {
      "text/plain": [
       "10"
      ]
     },
     "execution_count": 4,
     "metadata": {},
     "output_type": "execute_result"
    }
   ],
   "source": [
    "contours = [contour for contour in contours if cv2.contourArea(contour) >= 4000]\n",
    "len(contours)"
   ]
  },
  {
   "cell_type": "code",
   "execution_count": 5,
   "id": "5dc5133e",
   "metadata": {},
   "outputs": [
    {
     "ename": "NameError",
     "evalue": "name 'hull' is not defined",
     "output_type": "error",
     "traceback": [
      "\u001b[0;31m---------------------------------------------------------------------------\u001b[0m",
      "\u001b[0;31mNameError\u001b[0m                                 Traceback (most recent call last)",
      "Input \u001b[0;32mIn [5]\u001b[0m, in \u001b[0;36m<cell line: 1>\u001b[0;34m()\u001b[0m\n\u001b[0;32m----> 1\u001b[0m \u001b[38;5;28;01mfor\u001b[39;00m i \u001b[38;5;129;01min\u001b[39;00m \u001b[38;5;28mrange\u001b[39m(\u001b[38;5;28mlen\u001b[39m(\u001b[43mhull\u001b[49m)): \n\u001b[1;32m      2\u001b[0m     \u001b[38;5;28mprint\u001b[39m(\u001b[38;5;124mf\u001b[39m\u001b[38;5;124m'\u001b[39m\u001b[38;5;124mhull \u001b[39m\u001b[38;5;132;01m{\u001b[39;00mcv\u001b[38;5;241m.\u001b[39mcontourArea(hull[i])\u001b[38;5;132;01m}\u001b[39;00m\u001b[38;5;124m: cnt \u001b[39m\u001b[38;5;132;01m{\u001b[39;00mcv\u001b[38;5;241m.\u001b[39mcontourArea(contours[i])\u001b[38;5;132;01m}\u001b[39;00m\u001b[38;5;124m'\u001b[39m)\n",
      "\u001b[0;31mNameError\u001b[0m: name 'hull' is not defined"
     ]
    }
   ],
   "source": [
    "for i in range(len(hull)): \n",
    "    print(f'hull {cv.contourArea(hull[i])}: cnt {cv.contourArea(contours[i])}')"
   ]
  },
  {
   "cell_type": "code",
   "execution_count": null,
   "id": "0c9baa13",
   "metadata": {},
   "outputs": [],
   "source": []
  },
  {
   "cell_type": "code",
   "execution_count": 5,
   "id": "8d8e7784",
   "metadata": {},
   "outputs": [
    {
     "data": {
      "text/plain": [
       "10"
      ]
     },
     "execution_count": 5,
     "metadata": {},
     "output_type": "execute_result"
    }
   ],
   "source": [
    "\n",
    "\n",
    "hulls = []\n",
    " \n",
    "# calculate points for each contour\n",
    "for i in range(len(contours)):\n",
    "    # creating convex hull object for each contour\n",
    "    hulls.append(cv2.convexHull(contours[i], False))\n",
    "\n",
    "hulls = [h for h in hulls if cv2.contourArea(h) >= 5000]\n",
    "    \n",
    "rs_hull = [np.squeeze(h,axis=1) for h in hulls]\n",
    "len(rs_hull)\n"
   ]
  },
  {
   "cell_type": "code",
   "execution_count": null,
   "id": "4f6c2654",
   "metadata": {},
   "outputs": [],
   "source": [
    "quads = []\n",
    "\n",
    "for h in rs_hull: \n",
    "    x,y=np.split(h,2,axis=1)\n",
    "    \n",
    "    ## gets the maximum point in 8 cardinal directions \n",
    "    ## 4 cardinal directions\n",
    "    max_e = int(max(x))\n",
    "    max_w = int(min(x))\n",
    "    max_n = int(max(y))\n",
    "    max_s = int(min(y))\n",
    "        \n",
    "    max_e_ = [max_e, int(min(y[np.where(x == max_e)[0]]))]\n",
    "    max_s_ = [int(min(x[np.where(y == max_s)[0]])), max_s]\n",
    "    max_w_ = [max_w, int(min(y[np.where(x == max_w)[0]]))]\n",
    "    max_n_ = [int(min(x[np.where(y == max_n)[0]])), max_n]\n",
    "    \n",
    "    ## diagonal cardinal directions\n",
    "    nw = -x+y\n",
    "    ne = x+y\n",
    "    se = x-y\n",
    "    sw = -x-y\n",
    "    \n",
    "    max_nw = int(max(nw))\n",
    "    max_ne = int(max(ne))\n",
    "    max_se = int(max(se))\n",
    "    max_sw = int(max(sw))\n",
    "    \n",
    "    max_nw_i = np.argmax(nw == max_nw)\n",
    "    max_ne_i = np.argmax(ne == max_ne)\n",
    "    max_se_i = np.argmax(se == max_se)\n",
    "    max_sw_i = np.argmax(sw == max_sw)\n",
    "    \n",
    "    max_nw_ = [int(x[max_nw_i]), int(y[max_nw_i])] \n",
    "    max_ne_ = [int(x[max_ne_i]), int(y[max_ne_i])] \n",
    "    max_se_ = [int(x[max_se_i]), int(y[max_se_i])] \n",
    "    max_sw_ = [int(x[max_sw_i]), int(y[max_sw_i])] \n",
    "    \n",
    "    ## creates an onctagon that binds the hull \n",
    "    oct_points = [max_w_, max_nw_, max_n_, max_ne_, max_e_, max_se_, max_s_, max_sw_]\n",
    "    oct_points = np.array(oct_points).reshape((-1,1,2)).astype(np.int32)\n",
    "    \n",
    "    ## get distances between sequential points \n",
    "    dists = []\n",
    "    for i in range(-1,7):\n",
    "        dists.append(np.linalg.norm(oct_points[i]-oct_points[i+1]))\n",
    "    \n",
    "    ## find longest lines by index (i-1, i)\n",
    "    ind = np.argpartition(dists, -4)[-4:]\n",
    "    ind.sort()\n",
    "    \n",
    "    ## get pairs of points forming longest lines \n",
    "    ind_pair = []\n",
    "    for i in ind: \n",
    "        ind_pair.append([(i-1) % 8, i]) \n",
    "    ind_pair\n",
    "\n",
    "    ## get intersections of longest lines in bounding octagon\n",
    "    ## forming a min area bounding quadrilateral \n",
    "    quad_points = []\n",
    "    for i in range(-1,3):\n",
    "        p1 = oct_points[ind_pair[i][0]][0]\n",
    "        p2 = oct_points[ind_pair[i][1]][0]\n",
    "        p3 = oct_points[ind_pair[i+1][0]][0]\n",
    "        p4 = oct_points[ind_pair[i+1][1]][0]\n",
    "    \n",
    "        quad_points.append(seg_intersect(p1,p2,p3,p4))\n",
    "\n",
    "\n",
    "\n",
    "    quad = np.stack(quad_points, axis=0).reshape((-1,1,2)).astype(np.int32)\n",
    "    quads.append(quad)\n",
    "    \n",
    "cv2.drawContours(image,quads,-1,(0,255,255),5)\n",
    "plt.clf()\n",
    "plt.figure(figsize=(8,8))\n",
    "plt.imshow(image);"
   ]
  },
  {
   "cell_type": "code",
   "execution_count": 17,
   "id": "02edc77a",
   "metadata": {},
   "outputs": [
    {
     "name": "stdout",
     "output_type": "stream",
     "text": [
      "[(29, 13), (30, 24), (31, 25), (32, 25), (20, 7), (20, 15), (33, 16), (21, 14), (4, 4), (44, 14)]\n",
      "0.001\n",
      "[(29, 8), (30, 12), (31, 11), (32, 11), (20, 5), (20, 6), (33, 7), (21, 7), (4, 4), (44, 4)]\n",
      "0.0064444444444444445\n",
      "[(29, 8), (30, 7), (31, 7), (32, 8), (20, 5), (20, 6), (33, 6), (21, 5), (4, 4), (44, 4)]\n",
      "0.01188888888888889\n",
      "[(29, 7), (30, 7), (31, 6), (32, 8), (20, 4), (20, 4), (33, 5), (21, 4), (4, 4), (44, 4)]\n",
      "0.017333333333333333\n",
      "[(29, 7), (30, 6), (31, 6), (32, 8), (20, 4), (20, 4), (33, 5), (21, 3), (4, 4), (44, 4)]\n",
      "0.02277777777777778\n",
      "[(29, 7), (30, 5), (31, 5), (32, 5), (20, 4), (20, 4), (33, 5), (21, 3), (4, 4), (44, 4)]\n",
      "0.028222222222222225\n",
      "[(29, 7), (30, 5), (31, 5), (32, 5), (20, 4), (20, 3), (33, 5), (21, 3), (4, 4), (44, 4)]\n",
      "0.033666666666666664\n",
      "[(29, 5), (30, 4), (31, 4), (32, 4), (20, 4), (20, 3), (33, 5), (21, 3), (4, 4), (44, 4)]\n",
      "0.03911111111111111\n",
      "[(29, 5), (30, 3), (31, 4), (32, 4), (20, 4), (20, 3), (33, 4), (21, 3), (4, 4), (44, 4)]\n",
      "0.04455555555555556\n",
      "[(29, 5), (30, 3), (31, 4), (32, 4), (20, 4), (20, 3), (33, 4), (21, 3), (4, 4), (44, 4)]\n",
      "0.05\n"
     ]
    }
   ],
   "source": [
    "# to demonstrate the impact of contour approximation, let's loop\n",
    "# over a number of epsilon sizes\n",
    "eps = 0.010\n",
    "    # approximate the contour\n",
    "reduced_contours = [] \n",
    "l = []\n",
    "\n",
    "## reduce all hulls \n",
    "for h in hulls:     \n",
    "    peri = cv2.arcLength(h, True)\n",
    "    reduced_contour = cv2.approxPolyDP(h, eps * peri, True)\n",
    "    reduced_contours.append(reduced_contour)\n"
   ]
  },
  {
   "cell_type": "code",
   "execution_count": null,
   "id": "ffce2b6c",
   "metadata": {},
   "outputs": [],
   "source": [
    "    oct_points = [max_w_, max_nw_, max_n_, max_ne_, max_e_, max_se_, max_s_, max_sw_]\n",
    "    oct_points = np.array(oct_points).reshape((-1,1,2)).astype(np.int32)\n",
    "    \n",
    "    ## get distances between sequential points \n",
    "    dists = []\n",
    "    for i in range(-1,7):\n",
    "        print(i)\n",
    "        dists.append(np.linalg.norm(oct_points[i]-oct_points[i+1]))\n",
    "    \n",
    "    ## find longest lines by index (i-1, i)\n",
    "    ind = np.argpartition(dists, -4)[-4:]\n",
    "    ind.sort()"
   ]
  },
  {
   "cell_type": "code",
   "execution_count": null,
   "id": "0acf1993",
   "metadata": {},
   "outputs": [],
   "source": [
    "ind\n",
    "ind_pair = []\n",
    "for i in ind: \n",
    "    ind_pair.append([(i-1) % 8, i]) \n",
    "ind_pair"
   ]
  },
  {
   "cell_type": "code",
   "execution_count": null,
   "id": "ee2d72c0",
   "metadata": {},
   "outputs": [],
   "source": []
  },
  {
   "cell_type": "code",
   "execution_count": null,
   "id": "65144150",
   "metadata": {},
   "outputs": [],
   "source": []
  },
  {
   "cell_type": "code",
   "execution_count": null,
   "id": "b023c303",
   "metadata": {},
   "outputs": [],
   "source": [
    "quad_points = []\n",
    "for i in range(-1,3):\n",
    "    p1 = oct_points[ind_pair[i][0]][0]\n",
    "    p2 = oct_points[ind_pair[i][1]][0]\n",
    "    p3 = oct_points[ind_pair[i+1][0]][0]\n",
    "    p4 = oct_points[ind_pair[i+1][1]][0]\n",
    "    \n",
    "    quad_points.append(seg_intersect(p1,p2,p3,p4))\n",
    "    \n",
    "quad_points\n",
    "\n",
    "arr = np.stack(quad_points, axis=0).reshape((-1,1,2)).astype(np.int32)"
   ]
  },
  {
   "cell_type": "code",
   "execution_count": null,
   "id": "456b3b52",
   "metadata": {},
   "outputs": [],
   "source": [
    "\n",
    "arr, quad_points"
   ]
  },
  {
   "cell_type": "code",
   "execution_count": null,
   "id": "fc8d5567",
   "metadata": {},
   "outputs": [],
   "source": [
    "cv2.drawContours(image,[arr],0,(0,255,255),5)\n",
    "plt.figure(figsize=(8,8))\n",
    "plt.imshow(image)"
   ]
  },
  {
   "cell_type": "code",
   "execution_count": null,
   "id": "05dd55af",
   "metadata": {},
   "outputs": [],
   "source": [
    "hull[0]"
   ]
  },
  {
   "cell_type": "code",
   "execution_count": 1,
   "id": "cb5b8d3d",
   "metadata": {},
   "outputs": [
    {
     "data": {
      "text/plain": [
       "<matplotlib.image.AxesImage at 0x7f22e7c51ca0>"
      ]
     },
     "execution_count": 1,
     "metadata": {},
     "output_type": "execute_result"
    },
    {
     "data": {
      "image/png": "[encoded data removed]",
      "text/plain": [
       "<Figure size 432x288 with 1 Axes>"
      ]
     },
     "metadata": {
      "needs_background": "light"
     },
     "output_type": "display_data"
    }
   ],
   "source": [
    "import cv2\n",
    "from matplotlib import pyplot as plt\n",
    "\n",
    "image = cv2.imread('../raw_data/mercari_images/test.jpg')\n",
    "plt.imshow(image)"
   ]
  },
  {
   "cell_type": "code",
   "execution_count": 1,
   "id": "d01869da",
   "metadata": {},
   "outputs": [
    {
     "ename": "NameError",
     "evalue": "name 'contours' is not defined",
     "output_type": "error",
     "traceback": [
      "\u001b[0;31m---------------------------------------------------------------------------\u001b[0m",
      "\u001b[0;31mNameError\u001b[0m                                 Traceback (most recent call last)",
      "Input \u001b[0;32mIn [1]\u001b[0m, in \u001b[0;36m<cell line: 1>\u001b[0;34m()\u001b[0m\n\u001b[0;32m----> 1\u001b[0m \u001b[43mcontours\u001b[49m\n",
      "\u001b[0;31mNameError\u001b[0m: name 'contours' is not defined"
     ]
    }
   ],
   "source": [
    "contours"
   ]
  },
  {
   "cell_type": "code",
   "execution_count": 12,
   "id": "70d065de",
   "metadata": {},
   "outputs": [],
   "source": [
    "size = 500\n",
    "dest = np.float32([(size, 0),\n",
    "                  (0, 0),\n",
    "                  (size, size),\n",
    "                  (0, size)])"
   ]
  },
  {
   "cell_type": "code",
   "execution_count": 15,
   "id": "2ff6ed18",
   "metadata": {},
   "outputs": [
    {
     "ename": "NameError",
     "evalue": "name 'contour' is not defined",
     "output_type": "error",
     "traceback": [
      "\u001b[0;31m---------------------------------------------------------------------------\u001b[0m",
      "\u001b[0;31mNameError\u001b[0m                                 Traceback (most recent call last)",
      "Input \u001b[0;32mIn [15]\u001b[0m, in \u001b[0;36m<cell line: 1>\u001b[0;34m()\u001b[0m\n\u001b[0;32m----> 1\u001b[0m \u001b[43mcontour\u001b[49m\n",
      "\u001b[0;31mNameError\u001b[0m: name 'contour' is not defined"
     ]
    }
   ],
   "source": [
    "contours"
   ]
  },
  {
   "cell_type": "code",
   "execution_count": 48,
   "id": "c8af20cb",
   "metadata": {},
   "outputs": [
    {
     "data": {
      "text/plain": [
       "array([[908, 928],\n",
       "       [908, 937],\n",
       "       [909, 938],\n",
       "       [930, 938],\n",
       "       [931, 937],\n",
       "       [931, 928]], dtype=int32)"
      ]
     },
     "execution_count": 48,
     "metadata": {},
     "output_type": "execute_result"
    }
   ],
   "source": [
    "quad = contours[4].squeeze(axis=1)\n",
    "quad"
   ]
  },
  {
   "cell_type": "code",
   "execution_count": 50,
   "id": "f69ac0a7",
   "metadata": {},
   "outputs": [
    {
     "name": "stdout",
     "output_type": "stream",
     "text": [
      "[[908]\n",
      " [908]\n",
      " [909]\n",
      " [930]\n",
      " [931]\n",
      " [931]]\n",
      "[[928]\n",
      " [937]\n",
      " [938]\n",
      " [938]\n",
      " [937]\n",
      " [928]]\n",
      "[[908 928]\n",
      " [908 937]\n",
      " [909 938]\n",
      " [930 938]\n",
      " [931 937]\n",
      " [931 928]]\n",
      "top 2 x [[4]\n",
      " [5]] top y 4\n",
      "[[931 937]\n",
      " [931 928]\n",
      " [908 928]\n",
      " [908 937]\n",
      " [909 938]\n",
      " [930 938]]\n",
      "hello\n"
     ]
    }
   ],
   "source": [
    "    x, y = np.split(quad,2,axis=1)\n",
    "    print(x)\n",
    "    print(y)\n",
    "    top_2_x_index = np.argsort(x,axis=0)[-2:]\n",
    "    top_y_index = int(top_2_x_index[np.argmax(y[top_2_x_index])])\n",
    "    print(quad)\n",
    "    print(f'top 2 x {top_2_x_index} top y {top_y_index}')\n",
    "    oriented_quad = np.concatenate((quad[top_y_index:],quad[:top_y_index]), axis=0)\n",
    "\n",
    "    print(oriented_quad)\n",
    "    print('hello')"
   ]
  },
  {
   "cell_type": "code",
   "execution_count": 51,
   "id": "a6286cd9",
   "metadata": {},
   "outputs": [
    {
     "data": {
      "text/plain": [
       "array([[[937]],\n",
       "\n",
       "       [[928]]], dtype=int32)"
      ]
     },
     "execution_count": 51,
     "metadata": {},
     "output_type": "execute_result"
    }
   ],
   "source": [
    "np.argy[top_2_x_index]"
   ]
  },
  {
   "cell_type": "code",
   "execution_count": null,
   "id": "7917e949",
   "metadata": {},
   "outputs": [],
   "source": []
  }
 ],
 "metadata": {
  "kernelspec": {
   "display_name": "Python 3 (ipykernel)",
   "language": "python",
   "name": "python3"
  },
  "language_info": {
   "codemirror_mode": {
    "name": "ipython",
    "version": 3
   },
   "file_extension": ".py",
   "mimetype": "text/x-python",
   "name": "python",
   "nbconvert_exporter": "python",
   "pygments_lexer": "ipython3",
   "version": "3.8.13"
  },
  "toc": {
   "base_numbering": 1,
   "nav_menu": {},
   "number_sections": true,
   "sideBar": true,
   "skip_h1_title": false,
   "title_cell": "Table of Contents",
   "title_sidebar": "Contents",
   "toc_cell": false,
   "toc_position": {},
   "toc_section_display": true,
   "toc_window_display": false
  }
 },
 "nbformat": 4,
 "nbformat_minor": 5
}
