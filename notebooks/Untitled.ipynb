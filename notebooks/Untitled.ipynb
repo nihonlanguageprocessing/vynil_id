{
 "cells": [
  {
   "cell_type": "code",
   "execution_count": 1,
   "id": "b339c9ed",
   "metadata": {},
   "outputs": [],
   "source": [
    "import cv2\n",
    "import os\n",
    "from matplotlib import pyplot as plt\n",
    "import numpy as np"
   ]
  },
  {
   "cell_type": "code",
   "execution_count": 65,
   "id": "5b018494",
   "metadata": {},
   "outputs": [],
   "source": [
    "def threshold(img):\n",
    "\n",
    "#Converting the image into gray-scale\n",
    "    #img = cv2.imread('src.png')\n",
    "    gray = cv2.cvtColor(img,cv2.COLOR_BGR2GRAY)\n",
    "\n",
    "    kernel_size = 5\n",
    "    blur_gray = cv2.GaussianBlur(gray,(kernel_size, kernel_size),0)\n",
    "    low_threshold = 50\n",
    "    high_threshold = 150\n",
    "    edges = cv2.Canny(blur_gray, low_threshold, high_threshold)\n",
    "    rho = 1  # distance resolution in pixels of the Hough grid\n",
    "    theta = np.pi / 180  # angular resolution in radians of the Hough grid\n",
    "    threshold = 15  # minimum number of votes (intersections in Hough grid cell)\n",
    "    min_line_length = 50  # minimum number of pixels making up a line\n",
    "    max_line_gap = 30  # maximum gap in pixels between connectable line segments\n",
    "    line_image = np.copy(img) * 0  # creating a blank to draw lines on\n",
    "\n",
    "    # Run Hough on edge detected image\n",
    "    # Output \"lines\" is an array containing endpoints of detected line segments\n",
    "    lines = cv2.HoughLinesP(edges, rho, theta, threshold, np.array([]),\n",
    "                    min_line_length, max_line_gap)\n",
    "    plt.imshow(edges)\n",
    "    print(len(lines))\n",
    "    for line in lines:\n",
    "        for x1,y1,x2,y2 in line:\n",
    "            cv2.line(line_image,(x1,y1),(x2,y2),(255,0,0),5)\n",
    "    lines_edges = cv2.addWeighted(img, 0.8, line_image, 1, 0)\n",
    "    plt.imshow(lines_edges)\n",
    "    return()"
   ]
  },
  {
   "cell_type": "code",
   "execution_count": 28,
   "id": "b82b7275",
   "metadata": {},
   "outputs": [],
   "source": [
    "import math\n",
    "def threshold_(src):\n",
    "\n",
    "    \n",
    "    gray = cv2.cvtColor(src,cv2.COLOR_BGR2GRAY)\n",
    "\n",
    "    kernel_size = 5\n",
    "    blur_gray = cv2.GaussianBlur(gray,(kernel_size, kernel_size),0)\n",
    "    low_threshold = 50\n",
    "    high_threshold = 150\n",
    "    \n",
    "    dst = cv2.Canny(blur_gray, low_threshold, high_threshold) \n",
    "    \n",
    "    # Copy edges to the images that will display the results in BGR\n",
    "    cdst = cv2.cvtColor(dst, cv2.COLOR_GRAY2BGR)\n",
    "    cdstP = np.copy(cdst)\n",
    "    \n",
    "    lines = cv2.HoughLines(dst, 1, np.pi / 180, 150, None, 80, 30)\n",
    "    lines_v = []\n",
    "    lines_h = []\n",
    "    quarter_pi = math.pi / 4 \n",
    "    if lines is not None:\n",
    "        for i in range(0, len(lines)):\n",
    "            \n",
    "            rho = lines[i][0][0]\n",
    "            theta = lines[i][0][1]\n",
    "            degrees_ = math.degrees(theta)\n",
    "            if (0 <= degrees_ % 180 <= 10) or (170 <= degrees_ % 180 <= 180):\n",
    "                pts = ro_to_ab(rho,theta)\n",
    "                lines_h.append(pts)\n",
    "                cv2.line(cdst, pts[0], pts[1], (255,0,0), 3, cv2.LINE_AA)\n",
    "            elif (80 <= degrees_ % 180 <= 100):\n",
    "                pts = ro_to_ab(rho,theta)\n",
    "                lines_v.append(pts)\n",
    "                cv2.line(cdst, pts[0], pts[1], (0,0,255), 3, cv2.LINE_AA)\n",
    "    ## categorize each line as vertical or horizontal, discard lines greater than 20* off \n",
    "    ## find all quadrilaterals from each intersection of pairs \n",
    "    ## discard small quads, discard not square quads \n",
    "    \n",
    "    \n",
    "    \n",
    "#    cv2.imshow(\"Source\", src)\n",
    "    cv2.imshow(\"Detected Lines (in red) - Standard Hough Line Transform\", cdst)\n",
    " #   cv2.imshow(\"Detected Lines (in red) - Probabilistic Line Transform\", cdstP)\n",
    "    \n",
    "    cv2.waitKey(5000)\n",
    "    \n",
    "    return (lines_h, lines_v)\n",
    "\n",
    "def ro_to_ab(rho, theta): \n",
    "    a = math.cos(theta)\n",
    "    b = math.sin(theta)\n",
    "    x0 = a * rho\n",
    "    y0 = b * rho\n",
    "    pt1 = (int(x0 + 1000*(-b)), int(y0 + 1000*(a)))\n",
    "    pt2 = (int(x0 - 1000*(-b)), int(y0 - 1000*(a)))\n",
    "    return (pt1,pt2)\n",
    "\n",
    "def all_quads(lines_h, lines_v): \n",
    "    lines_h_pairs = list(itertools.combinations(lines_h, 2))\n",
    "    lines_v_pairs = list(itertools.combinations(lines_v, 2))\n",
    "    for h_pair in lines_h_pairs: \n",
    "        for v_pair in lines_v_pairs: \n",
    "            "
   ]
  },
  {
   "cell_type": "code",
   "execution_count": 29,
   "id": "3c162a77",
   "metadata": {},
   "outputs": [
    {
     "ename": "KeyboardInterrupt",
     "evalue": "",
     "output_type": "error",
     "traceback": [
      "\u001b[0;31m---------------------------------------------------------------------------\u001b[0m",
      "\u001b[0;31mKeyboardInterrupt\u001b[0m                         Traceback (most recent call last)",
      "Input \u001b[0;32mIn [29]\u001b[0m, in \u001b[0;36m<cell line: 3>\u001b[0;34m()\u001b[0m\n\u001b[1;32m      7\u001b[0m \u001b[38;5;28;01mif\u001b[39;00m os\u001b[38;5;241m.\u001b[39mpath\u001b[38;5;241m.\u001b[39misfile(f):\n\u001b[1;32m      8\u001b[0m     image \u001b[38;5;241m=\u001b[39m cv2\u001b[38;5;241m.\u001b[39mimread(f)\n\u001b[0;32m----> 9\u001b[0m     \u001b[43mthreshold_\u001b[49m\u001b[43m(\u001b[49m\u001b[43mimage\u001b[49m\u001b[43m)\u001b[49m\n\u001b[1;32m     10\u001b[0m     cv2\u001b[38;5;241m.\u001b[39mdestroyAllWindows\n\u001b[1;32m     11\u001b[0m i\u001b[38;5;241m+\u001b[39m\u001b[38;5;241m=\u001b[39m\u001b[38;5;241m1\u001b[39m\n",
      "Input \u001b[0;32mIn [28]\u001b[0m, in \u001b[0;36mthreshold_\u001b[0;34m(src)\u001b[0m\n\u001b[1;32m     43\u001b[0m    cv2\u001b[38;5;241m.\u001b[39mimshow(\u001b[38;5;124m\"\u001b[39m\u001b[38;5;124mDetected Lines (in red) - Standard Hough Line Transform\u001b[39m\u001b[38;5;124m\"\u001b[39m, cdst)\n\u001b[1;32m     44\u001b[0m \u001b[38;5;66;03m#   cv2.imshow(\"Detected Lines (in red) - Probabilistic Line Transform\", cdstP)\u001b[39;00m\n\u001b[0;32m---> 46\u001b[0m    \u001b[43mcv2\u001b[49m\u001b[38;5;241;43m.\u001b[39;49m\u001b[43mwaitKey\u001b[49m\u001b[43m(\u001b[49m\u001b[38;5;241;43m5000\u001b[39;49m\u001b[43m)\u001b[49m\n\u001b[1;32m     48\u001b[0m    \u001b[38;5;28;01mreturn\u001b[39;00m \u001b[38;5;241m0\u001b[39m\n",
      "\u001b[0;31mKeyboardInterrupt\u001b[0m: "
     ]
    }
   ],
   "source": [
    "directory = '../raw_data/mercari_images'\n",
    "i = 0\n",
    "while i < 2:\n",
    "    for filename in os.listdir(directory):\n",
    "        f = os.path.join(directory, filename)\n",
    "        # checking if it is a file\n",
    "        if os.path.isfile(f):\n",
    "            image = cv2.imread(f)\n",
    "            threshold_(image)\n",
    "            cv2.destroyAllWindows\n",
    "        i+=1\n",
    "        \n"
   ]
  },
  {
   "cell_type": "code",
   "execution_count": 12,
   "id": "782b13e1",
   "metadata": {},
   "outputs": [],
   "source": []
  },
  {
   "cell_type": "code",
   "execution_count": 7,
   "id": "75d0c5a1",
   "metadata": {},
   "outputs": [
    {
     "name": "stdout",
     "output_type": "stream",
     "text": [
      "0.7853981633974483\n"
     ]
    }
   ],
   "source": [
    "quarter_pi = math.pi / 4 \n",
    "print(quarter_pi)"
   ]
  },
  {
   "cell_type": "code",
   "execution_count": 27,
   "id": "df153235",
   "metadata": {},
   "outputs": [
    {
     "data": {
      "text/plain": [
       "[(1, 2), (1, 3), (2, 3)]"
      ]
     },
     "execution_count": 27,
     "metadata": {},
     "output_type": "execute_result"
    }
   ],
   "source": [
    "import itertools\n",
    "l = [1,2,3]\n",
    "\n",
    "list(itertools.combinations(l, 2))"
   ]
  },
  {
   "cell_type": "code",
   "execution_count": 31,
   "id": "482d1bfa",
   "metadata": {},
   "outputs": [
    {
     "data": {
      "text/plain": [
       "'False'"
      ]
     },
     "execution_count": 31,
     "metadata": {},
     "output_type": "execute_result"
    }
   ],
   "source": [
    "correct = False\n",
    "str(correct)"
   ]
  },
  {
   "cell_type": "code",
   "execution_count": 33,
   "id": "4c48e04c",
   "metadata": {},
   "outputs": [
    {
     "data": {
      "text/plain": [
       "'hello 1'"
      ]
     },
     "execution_count": 33,
     "metadata": {},
     "output_type": "execute_result"
    }
   ],
   "source": [
    "f'hello {1}'"
   ]
  },
  {
   "cell_type": "code",
   "execution_count": 34,
   "id": "3f9fa26a",
   "metadata": {},
   "outputs": [
    {
     "data": {
      "text/plain": [
       "True"
      ]
     },
     "execution_count": 34,
     "metadata": {},
     "output_type": "execute_result"
    }
   ],
   "source": [
    "hi = -1 == -1\n",
    "hi"
   ]
  },
  {
   "cell_type": "code",
   "execution_count": 2,
   "id": "77369313",
   "metadata": {},
   "outputs": [
    {
     "ename": "NameError",
     "evalue": "name 'correct' is not defined",
     "output_type": "error",
     "traceback": [
      "\u001b[0;31m---------------------------------------------------------------------------\u001b[0m",
      "\u001b[0;31mNameError\u001b[0m                                 Traceback (most recent call last)",
      "Input \u001b[0;32mIn [2]\u001b[0m, in \u001b[0;36m<cell line: 1>\u001b[0;34m()\u001b[0m\n\u001b[0;32m----> 1\u001b[0m \u001b[38;5;28mprint\u001b[39m(\u001b[43mcorrect\u001b[49m)\n",
      "\u001b[0;31mNameError\u001b[0m: name 'correct' is not defined"
     ]
    }
   ],
   "source": [
    "print(correct)"
   ]
  },
  {
   "cell_type": "code",
   "execution_count": null,
   "id": "be517edb",
   "metadata": {},
   "outputs": [],
   "source": []
  }
 ],
 "metadata": {
  "kernelspec": {
   "display_name": "Python 3 (ipykernel)",
   "language": "python",
   "name": "python3"
  },
  "language_info": {
   "codemirror_mode": {
    "name": "ipython",
    "version": 3
   },
   "file_extension": ".py",
   "mimetype": "text/x-python",
   "name": "python",
   "nbconvert_exporter": "python",
   "pygments_lexer": "ipython3",
   "version": "3.8.13"
  },
  "toc": {
   "base_numbering": 1,
   "nav_menu": {},
   "number_sections": true,
   "sideBar": true,
   "skip_h1_title": false,
   "title_cell": "Table of Contents",
   "title_sidebar": "Contents",
   "toc_cell": false,
   "toc_position": {},
   "toc_section_display": true,
   "toc_window_display": false
  }
 },
 "nbformat": 4,
 "nbformat_minor": 5
}
